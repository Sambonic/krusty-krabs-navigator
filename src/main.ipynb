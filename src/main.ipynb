{
 "cells": [
  {
   "cell_type": "markdown",
   "metadata": {},
   "source": [
    "# Imports"
   ]
  },
  {
   "cell_type": "code",
   "execution_count": 36,
   "metadata": {},
   "outputs": [],
   "source": [
    "#!pip install pygame numpy"
   ]
  },
  {
   "cell_type": "code",
   "execution_count": 37,
   "metadata": {},
   "outputs": [],
   "source": [
    "import pygame\n",
    "import numpy as np\n",
    "import math\n",
    "import random\n",
    "import copy\n",
    "import time\n",
    "from queue import PriorityQueue\n",
    "import os\n"
   ]
  },
  {
   "cell_type": "markdown",
   "metadata": {},
   "source": [
    "# Constants and Paths"
   ]
  },
  {
   "cell_type": "code",
   "execution_count": 38,
   "metadata": {},
   "outputs": [],
   "source": [
    "# Constants\n",
    "SCREEN_WIDTH, SCREEN_HEIGHT = int(2616 / 2.2), int(1816 / 2.2)\n",
    "CELL_SIZE = 5\n",
    "GRID_WIDTH, GRID_HEIGHT = SCREEN_WIDTH // CELL_SIZE, SCREEN_HEIGHT // CELL_SIZE\n",
    "BOT_COLOR = (255, 0, 0)\n",
    "SECOND_BOT_COLOR = (0, 0, 255)\n",
    "DYNAMIC_OBSTACLE_COLOR = (128, 0, 128)\n",
    "DYNAMIC_OBSTACLE_RADIUS = 4\n",
    "PRIORITY_COLORS = {1: (0, 255, 0), 2: (0, 0, 255), 3: (255, 255, 0)}\n",
    "MAPPING_SPEED = 10\n",
    "FPS = 60"
   ]
  },
  {
   "cell_type": "code",
   "execution_count": 39,
   "metadata": {},
   "outputs": [],
   "source": [
    "# Root directory\n",
    "ROOT_DIR = os.path.abspath(os.path.join(os.getcwd() , \"..\"))\n",
    "\n",
    "# Path to images\n",
    "ASSETS_DIR = os.path.join(ROOT_DIR, \"images\", \"proj_assets\")\n",
    "\n",
    "# Image paths\n",
    "IMAGE_PATHS = {\n",
    "    \"env\": os.path.join(ASSETS_DIR, \"env.png\"),\n",
    "    \"agents\": [\n",
    "        os.path.join(ASSETS_DIR, \"crabs.png\"),\n",
    "        os.path.join(ASSETS_DIR, \"crabs2.png\"),\n",
    "    ],\n",
    "    \"dynamic_obstacles\": [\n",
    "        os.path.join(ASSETS_DIR, \"do1.png\"),\n",
    "        os.path.join(ASSETS_DIR, \"do2.png\"),\n",
    "    ],\n",
    "    \"targets\": [\n",
    "        os.path.join(ASSETS_DIR, \"placeholder1.png\"),\n",
    "        os.path.join(ASSETS_DIR, \"placeholder2.png\"),\n",
    "        os.path.join(ASSETS_DIR, \"placeholder3.png\"),\n",
    "    ],\n",
    "}"
   ]
  },
  {
   "cell_type": "markdown",
   "metadata": {},
   "source": [
    "# Environment Functions\n",
    "\n",
    "These functions are responsible for creating and managing the simulation environment."
   ]
  },
  {
   "cell_type": "markdown",
   "metadata": {},
   "source": [
    "### Static Obstacles and Grid Occupancy\n"
   ]
  },
  {
   "cell_type": "code",
   "execution_count": 40,
   "metadata": {},
   "outputs": [],
   "source": [
    "def create_occupancy_grid():\n",
    "    return np.zeros((GRID_WIDTH, GRID_HEIGHT))\n",
    "\n",
    "def add_circular_obstacle(occupancy_grid, center, radius):\n",
    "    cx, cy = center\n",
    "    for x in range(GRID_WIDTH):\n",
    "        for y in range(GRID_HEIGHT):\n",
    "            if (x + 0.5 - cx) ** 2 + (y + 0.5 - cy) ** 2 <= radius ** 2:\n",
    "                occupancy_grid[x][y] = 1\n",
    "\n",
    "def add_rectangular_obstacle(occupancy_grid, top_left, width, height):\n",
    "    start_x, start_y = top_left\n",
    "    for x in range(start_x, min(start_x + width, GRID_WIDTH)):\n",
    "        for y in range(start_y, min(start_y + height, GRID_HEIGHT)):\n",
    "            occupancy_grid[x][y] = 1\n",
    "\n",
    "def add_obstacles(occupancy_grid):\n",
    "    \"\"\"Add predefined circular and rectangular obstacles.\"\"\"\n",
    "    # Frame\n",
    "    add_rectangular_obstacle(occupancy_grid, (0, 1), GRID_WIDTH, 15)\n",
    "    add_rectangular_obstacle(occupancy_grid, (0, 152), GRID_WIDTH, 15)\n",
    "    add_rectangular_obstacle(occupancy_grid, (0, 1), 17, GRID_HEIGHT)\n",
    "    add_rectangular_obstacle(occupancy_grid, (222, 1), 17, GRID_HEIGHT)\n",
    "\n",
    "    # Dining room (Tables then Barrels)\n",
    "    add_circular_obstacle(occupancy_grid, (146, 133), 10)\n",
    "    add_circular_obstacle(occupancy_grid, (74, 133), 10)\n",
    "    add_circular_obstacle(occupancy_grid, (76, 102), 9)\n",
    "    add_circular_obstacle(occupancy_grid, (38, 118), 11)\n",
    "    add_circular_obstacle(occupancy_grid, (187, 118), 12)\n",
    "    add_circular_obstacle(occupancy_grid, (157, 91), 10)\n",
    "\n",
    "    add_circular_obstacle(occupancy_grid, (90, 115), 3)\n",
    "    add_circular_obstacle(occupancy_grid, (162, 112), 3)\n",
    "    add_circular_obstacle(occupancy_grid, (139, 100), 3)\n",
    "    add_circular_obstacle(occupancy_grid, (181, 96), 3)\n",
    "    add_circular_obstacle(occupancy_grid, (210, 123), 3)\n",
    "    add_circular_obstacle(occupancy_grid, (55, 122), 3)\n",
    "    add_circular_obstacle(occupancy_grid, (24, 93), 3)\n",
    "    add_circular_obstacle(occupancy_grid, (24, 137), 3)\n",
    "    add_circular_obstacle(occupancy_grid, (81, 145), 3)\n",
    "\n",
    "\n",
    "    add_rectangular_obstacle(occupancy_grid, (101, 70), 28, 18)\n",
    "    add_circular_obstacle(occupancy_grid, (115, 90), 14)\n",
    "    \n",
    "    # Inner walls\n",
    "    add_rectangular_obstacle(occupancy_grid, (0, 68), 33, 5)\n",
    "    add_rectangular_obstacle(occupancy_grid, (46, 68), 89, 5)\n",
    "    add_rectangular_obstacle(occupancy_grid, (153, 68), 38, 5)\n",
    "    add_rectangular_obstacle(occupancy_grid, (208, 68), 38, 5)\n",
    "\n",
    "    add_rectangular_obstacle(occupancy_grid, (68, 1), 5, 42)\n",
    "    add_rectangular_obstacle(occupancy_grid, (68, 61), 5, 10)\n",
    "    add_rectangular_obstacle(occupancy_grid, (183, 1), 5, 70)\n",
    "\n",
    "    # Kitchen area\n",
    "    add_rectangular_obstacle(occupancy_grid, (70, 1), 12, 42)\n",
    "    add_rectangular_obstacle(occupancy_grid, (104, 1), 23, 26)\n",
    "    add_rectangular_obstacle(occupancy_grid, (101, 53), 27, 18)\n",
    "    add_rectangular_obstacle(occupancy_grid, (81, 57), 17, 14)\n",
    "    add_rectangular_obstacle(occupancy_grid, (177, 36), 8, 20)\n",
    "\n",
    "    add_circular_obstacle(occupancy_grid, (135, 21), 3)\n",
    "    add_circular_obstacle(occupancy_grid, (143, 21), 3)\n",
    "\n",
    "    # Crabs room\n",
    "    add_rectangular_obstacle(occupancy_grid, (35, 32), 19, 12)\n",
    "    add_rectangular_obstacle(occupancy_grid, (38, 24), 12, 12)\n",
    "\n",
    "    add_circular_obstacle(occupancy_grid, (33, 52), 3)\n",
    "    add_circular_obstacle(occupancy_grid, (53, 53), 3)\n",
    "\n",
    "    # Bathroom\n",
    "    add_rectangular_obstacle(occupancy_grid, (185, 21), 14, 30)\n",
    "    add_rectangular_obstacle(occupancy_grid, (185,55),10,8)"
   ]
  },
  {
   "cell_type": "code",
   "execution_count": 41,
   "metadata": {},
   "outputs": [],
   "source": [
    "def draw_occupancy_grid(screen, occupancy_grid):\n",
    "    \"\"\"\n",
    "    Draw the occupancy grid on the Pygame screen.\n",
    "    0: Free space, 1: Obstacle, 2: Dynamic obstacle\n",
    "    \"\"\"\n",
    "    for row in range(len(occupancy_grid)):\n",
    "        for col in range(len(occupancy_grid[0])):\n",
    "            cell_color = (255, 255, 255)\n",
    "            if occupancy_grid[row][col] == 2:\n",
    "                cell_color = (0, 0, 0)\n",
    "            elif occupancy_grid[row][col] == 1:\n",
    "                cell_color = (255, 0, 0)\n",
    "            pygame.draw.rect(screen, cell_color, pygame.Rect(\n",
    "                col * CELL_SIZE, row * CELL_SIZE, CELL_SIZE, CELL_SIZE))"
   ]
  },
  {
   "cell_type": "markdown",
   "metadata": {},
   "source": [
    "### Dynamic Obstacles\n"
   ]
  },
  {
   "cell_type": "code",
   "execution_count": 42,
   "metadata": {},
   "outputs": [],
   "source": [
    "# Dynamic Obstacles Movement Pattern\n",
    "def move_dynamic_obstacles(obstacles, occupancy_grid):\n",
    "    for obstacle in obstacles:\n",
    "        x, y, dx, dy = obstacle\n",
    "        stuck = False\n",
    "\n",
    "        # Clear previous position in the occupancy grid for the entire radius\n",
    "        for ox in range(-DYNAMIC_OBSTACLE_RADIUS, DYNAMIC_OBSTACLE_RADIUS + 1):\n",
    "            for oy in range(-DYNAMIC_OBSTACLE_RADIUS, DYNAMIC_OBSTACLE_RADIUS + 1):\n",
    "                if 0 <= x + ox < GRID_WIDTH and 0 <= y + oy < GRID_HEIGHT and ox**2 + oy**2 <= DYNAMIC_OBSTACLE_RADIUS**2:\n",
    "                    occupancy_grid[x + ox][y + oy] = 0\n",
    "\n",
    "        # Introduce a chance to randomly change direction ( 5% Chance )\n",
    "        if random.randint(1, 100) <= 5: \n",
    "            # Randomly pick a new direction (up, down, left, right)\n",
    "            dx, dy = random.choice([(1, 0), (-1, 0), (0, 1), (0, -1)])  # Random direction: right, left, down, up\n",
    "\n",
    "        # Calculate new position\n",
    "        x_new, y_new = x + dx, y + dy\n",
    "\n",
    "        # Check if new position is valid and not hitting a static obstacle\n",
    "        if 0 <= x_new < GRID_WIDTH and 0 <= y_new < GRID_HEIGHT:\n",
    "            collision = False\n",
    "            for ox in range(-DYNAMIC_OBSTACLE_RADIUS, DYNAMIC_OBSTACLE_RADIUS + 1):\n",
    "                for oy in range(-DYNAMIC_OBSTACLE_RADIUS, DYNAMIC_OBSTACLE_RADIUS + 1):\n",
    "                    if (0 <= x_new + ox < GRID_WIDTH and 0 <= y_new + oy < GRID_HEIGHT \n",
    "                        and ox**2 + oy**2 <= DYNAMIC_OBSTACLE_RADIUS**2\n",
    "                        and occupancy_grid[x_new + ox][y_new + oy] == 1):\n",
    "                        collision = True\n",
    "                        break\n",
    "                if collision:\n",
    "                    break\n",
    "\n",
    "            if not collision:\n",
    "                x, y = x_new, y_new\n",
    "            else:\n",
    "                stuck = True\n",
    "\n",
    "        # Reverse direction if stuck or out of bounds\n",
    "        if stuck or not (0 <= x_new < GRID_WIDTH) or not (0 <= y_new < GRID_HEIGHT):\n",
    "            dx, dy = -dy, dx\n",
    "            x_new, y_new = x + dx, y + dy\n",
    "\n",
    "            # Check for collisions in the new perpendicular direction\n",
    "            collision = False\n",
    "            for ox in range(-DYNAMIC_OBSTACLE_RADIUS, DYNAMIC_OBSTACLE_RADIUS + 1):\n",
    "                for oy in range(-DYNAMIC_OBSTACLE_RADIUS, DYNAMIC_OBSTACLE_RADIUS + 1):\n",
    "                    if (0 <= x_new + ox < GRID_WIDTH and 0 <= y_new + oy < GRID_HEIGHT \n",
    "                        and ox**2 + oy**2 <= DYNAMIC_OBSTACLE_RADIUS**2\n",
    "                        and occupancy_grid[x_new + ox][y_new + oy] == 1):\n",
    "                        collision = True\n",
    "                        break\n",
    "                if collision:\n",
    "                    break\n",
    "\n",
    "            if not collision:\n",
    "                x, y = x_new, y_new\n",
    "            else:\n",
    "                dx, dy = -dx, -dy  # Reverse direction if still stuck\n",
    "\n",
    "        # Update occupancy grid for new position\n",
    "        for ox in range(-DYNAMIC_OBSTACLE_RADIUS, DYNAMIC_OBSTACLE_RADIUS + 1):\n",
    "            for oy in range(-DYNAMIC_OBSTACLE_RADIUS, DYNAMIC_OBSTACLE_RADIUS + 1):\n",
    "                if 0 <= x + ox < GRID_WIDTH and 0 <= y + oy < GRID_HEIGHT and ox**2 + oy**2 <= DYNAMIC_OBSTACLE_RADIUS**2:\n",
    "                    occupancy_grid[x + ox][y + oy] = 1\n",
    "\n",
    "        # Update the obstacle's position and direction\n",
    "        obstacle[0], obstacle[1], obstacle[2], obstacle[3] = x, y, dx, dy\n",
    "\n",
    "        \n",
    "def draw_dynamic_obstacles(screen, dynamic_obstacles, customers):\n",
    "    # List of image file names corresponding to customer values (0 or 1)\n",
    "\n",
    "    size = DYNAMIC_OBSTACLE_RADIUS * CELL_SIZE\n",
    "\n",
    "    for index, (x, y, _, _) in enumerate(dynamic_obstacles):\n",
    "        # Choose the image based on the customer value (0 or 1)\n",
    "        image_file = IMAGE_PATHS[\"dynamic_obstacles\"][customers[index]]\n",
    "        # Load and scale the selected image\n",
    "        dynamic_obstacle_image = pygame.image.load(image_file)\n",
    "        dynamic_obstacle_image = pygame.transform.scale(dynamic_obstacle_image, (size * 2, size * 2))\n",
    "\n",
    "        # Calculate the center position for the obstacle\n",
    "        center_x = x * CELL_SIZE + CELL_SIZE // 2\n",
    "        center_y = y * CELL_SIZE + CELL_SIZE // 2\n",
    "\n",
    "        # Draw the image centered on the calculated position\n",
    "        screen.blit(dynamic_obstacle_image, (center_x - dynamic_obstacle_image.get_width() // 2, center_y - dynamic_obstacle_image.get_height() // 2))\n"
   ]
  },
  {
   "cell_type": "markdown",
   "metadata": {},
   "source": [
    "## Pygame Intialization \n",
    "\n",
    "These functions are responsible for initializing the pygame window."
   ]
  },
  {
   "cell_type": "code",
   "execution_count": 43,
   "metadata": {},
   "outputs": [],
   "source": [
    "def initialize_pygame(screen_width, screen_height, title=\"Search Algorithm Simulation\"):\n",
    "    pygame.init()\n",
    "    screen = pygame.display.set_mode((screen_width, screen_height))\n",
    "    pygame.display.set_caption(title)\n",
    "    return screen"
   ]
  },
  {
   "cell_type": "code",
   "execution_count": 44,
   "metadata": {},
   "outputs": [],
   "source": [
    "def load_and_scale_image(screen_width, screen_height):\n",
    "    image = pygame.image.load(IMAGE_PATHS[\"env\"])\n",
    "    return pygame.transform.scale(image, (screen_width, screen_height))"
   ]
  },
  {
   "cell_type": "markdown",
   "metadata": {},
   "source": [
    "# Environment Mapping"
   ]
  },
  {
   "cell_type": "markdown",
   "metadata": {},
   "source": [
    "### Robot Class\n",
    "\n",
    "Responsible for the robot's movement and sensing.\n",
    "\n"
   ]
  },
  {
   "cell_type": "code",
   "execution_count": 45,
   "metadata": {},
   "outputs": [],
   "source": [
    "class Robot:\n",
    "    def __init__(self, environment, start_position):\n",
    "        self.env = environment\n",
    "        self.x, self.y = start_position\n",
    "        while self.env[self.x, self.y] == 1:\n",
    "            self.x = random.randint(0, GRID_WIDTH - 1)\n",
    "            self.y = random.randint(0, GRID_HEIGHT - 1)\n",
    "        self.orientation = random.uniform(0, 2 * math.pi)\n",
    "        self.path = [(self.x, self.y)]\n",
    "    \n",
    "    def move(self):\n",
    "        max_attempts = 35  # Max retries to find a valid move\n",
    "        attempts = 0\n",
    "\n",
    "        while attempts < max_attempts:\n",
    "            dx = random.choice([-1, 0, 1]) * MAPPING_SPEED\n",
    "            dy = random.choice([-1, 0, 1]) * MAPPING_SPEED\n",
    "            nx, ny = self.x + dx, self.y + dy\n",
    "            \n",
    "            if 0 <= nx < GRID_WIDTH and 0 <= ny < GRID_HEIGHT:\n",
    "                if self.env[nx, ny] == 0:\n",
    "                    self.x, self.y = nx, ny\n",
    "                    self.path.append((self.x, self.y))\n",
    "                    if dx != 0 or dy != 0:\n",
    "                        self.orientation = math.atan2(dy, dx)\n",
    "                    return\n",
    "            attempts += 1\n",
    "        \n",
    "        # If no valid move is found, robot remains stationary, but we avoid infinite loop.\n",
    "        print(\"Robot could not find a valid move after several attempts.\")\n",
    "\n",
    "                        \n",
    "    def sense(self):\n",
    "        max_range = 10  # Range around the robot to sense\n",
    "        measurements = []\n",
    "        \n",
    "        for dx in range(-max_range, max_range + 1):\n",
    "            for dy in range(-max_range, max_range + 1):\n",
    "                nx, ny = self.x + dx, self.y + dy\n",
    "                if 0 <= nx < GRID_WIDTH and 0 <= ny < GRID_HEIGHT:\n",
    "                    if math.sqrt(dx**2 + dy**2) <= max_range:\n",
    "                        measurements.append((nx, ny))\n",
    "                        # Stop further exploration in this direction only if an obstacle is hit\n",
    "                        if self.env[nx, ny] == 1:\n",
    "                            continue\n",
    "                else:\n",
    "                    # Handles cases where the robot might go out of bounds\n",
    "                    print(f\"Skipping out-of-bounds measurement at ({nx}, {ny})\")\n",
    "                    continue\n",
    "        \n",
    "        return measurements\n",
    "\n",
    "\n"
   ]
  },
  {
   "cell_type": "markdown",
   "metadata": {},
   "source": [
    "### Applying the Log-Odds Update\n",
    "\n",
    "Responsible for applying the log-odds update to the occupancy grid.\n"
   ]
  },
  {
   "cell_type": "code",
   "execution_count": 46,
   "metadata": {},
   "outputs": [],
   "source": [
    "def inverse_sensor_model(cell, robot_pos, env):\n",
    "    x_cell, y_cell = cell\n",
    "    x_robot, y_robot = robot_pos\n",
    "    if env[x_cell, y_cell] == 1:\n",
    "        return 0.9\n",
    "    else:\n",
    "        return 0.3\n",
    "\n",
    "def update_occupancy_grid(occupancy_grid, measurements, robot, true_map):\n",
    "    for cell in measurements:\n",
    "        prob = inverse_sensor_model(cell, (robot.x, robot.y), true_map)\n",
    "        lx, ly = cell\n",
    "        l_prior = occupancy_grid[lx, ly]\n",
    "        l_sensor = math.log(prob / (1 - prob))\n",
    "\n",
    "        # Update the occupancy grid using log-odds with proper bounds\n",
    "        updated_l = l_prior + l_sensor\n",
    "        occupancy_grid[lx, ly] = max(min(updated_l, 50), -50)\n",
    "\n",
    "\n",
    "def draw(screen, occupancy_grid, robot):\n",
    "    screen.fill((255, 255, 255)) \n",
    "    \n",
    "    # Draw the occupancy grid\n",
    "    for x in range(GRID_WIDTH):\n",
    "        for y in range(GRID_HEIGHT):\n",
    "            l = occupancy_grid[x, y]\n",
    "            p = 1 - 1 / (1 + math.exp(l))\n",
    "            color = (255 * (1 - p), 255 * (1 - p), 255 * (1 - p))\n",
    "            rect = pygame.Rect(x * CELL_SIZE, y * CELL_SIZE, CELL_SIZE, CELL_SIZE)\n",
    "            pygame.draw.rect(screen, color, rect)\n",
    "    \n",
    "    # Draw the robot\n",
    "    pygame.draw.circle(screen, (0, 0, 255), (int(robot.x * CELL_SIZE + CELL_SIZE / 2), int(robot.y * CELL_SIZE + CELL_SIZE / 2)), CELL_SIZE // 2)\n",
    "    \n",
    "    # Draw the robot's sensing area\n",
    "    for pos in robot.path:\n",
    "        pygame.draw.circle(screen, (0, 255, 0), (int(pos[0] * CELL_SIZE + CELL_SIZE / 2), int(pos[1] * CELL_SIZE + CELL_SIZE / 2)), 2)\n",
    "    \n",
    "    # Draw the \"enlightened\" area the robot sensed\n",
    "    for measurement in robot.sense():\n",
    "        mx, my = measurement\n",
    "        pygame.draw.circle(screen, (255, 255, 0), (int(mx * CELL_SIZE + CELL_SIZE / 2), int(my * CELL_SIZE + CELL_SIZE / 2)), 3)\n"
   ]
  },
  {
   "cell_type": "markdown",
   "metadata": {},
   "source": [
    "# Graph Mapping Simulation Function\n",
    "\n",
    "Responsible for running the mapping simulation.\n",
    "\n"
   ]
  },
  {
   "cell_type": "code",
   "execution_count": 47,
   "metadata": {},
   "outputs": [],
   "source": [
    "def run_simulation():\n",
    "    screen = initialize_pygame(SCREEN_WIDTH, SCREEN_HEIGHT)\n",
    "    clock = pygame.time.Clock()\n",
    "    occupancy_grid = create_occupancy_grid()\n",
    "    true_map = np.copy(occupancy_grid)\n",
    "    add_obstacles(true_map)\n",
    "    robot = Robot(true_map, (20, 20))\n",
    "    running = True\n",
    "    num_steps = 3000\n",
    "    \n",
    "    step = 0\n",
    "    while running and step < num_steps:\n",
    "        for event in pygame.event.get():\n",
    "            if event.type == pygame.QUIT:\n",
    "                running = False\n",
    "        \n",
    "        robot.move()\n",
    "        measurements = robot.sense()\n",
    "        update_occupancy_grid(occupancy_grid, measurements, robot, true_map)\n",
    "        draw(screen, occupancy_grid, robot)\n",
    "        pygame.display.flip()\n",
    "        clock.tick(FPS)\n",
    "        step += 1\n",
    "        \n",
    "        # Stopping condition: If the robot has explored most of the map\n",
    "        explored_cells = sum(1 for x in range(GRID_WIDTH) for y in range(GRID_HEIGHT) if occupancy_grid[x, y] != 0)\n",
    "\n",
    "        # Stop when 95% of the map is explored\n",
    "        if explored_cells >= 0.95 * GRID_WIDTH * GRID_HEIGHT:  \n",
    "            running = False\n",
    "\n",
    "    pygame.quit()\n",
    "    return occupancy_grid \n"
   ]
  },
  {
   "cell_type": "markdown",
   "metadata": {},
   "source": [
    "# A* Algorithm\n",
    "\n",
    "Responsible for the A* algorithm.\n",
    "\n",
    "\n"
   ]
  },
  {
   "cell_type": "code",
   "execution_count": 48,
   "metadata": {},
   "outputs": [],
   "source": [
    "# ----- A* Algorithm with Dynamic Obstacle Handling -----\n",
    "def heuristic(a, b):\n",
    "    return abs(a[0] - b[0]) + abs(a[1] - b[1])\n",
    "\n",
    "def a_star_search(occupancy_grid, start, goal, dynamic_obstacles, second_bot_position):\n",
    "    open_list = PriorityQueue()\n",
    "    open_list.put((0, start))\n",
    "    came_from = {}\n",
    "    g_score = {start: 0}\n",
    "    f_score = {start: heuristic(start, goal)}\n",
    "\n",
    "    while not open_list.empty():\n",
    "        _, current = open_list.get()\n",
    "\n",
    "        if current == goal:\n",
    "            path = []\n",
    "            while current in came_from:\n",
    "                path.append(current)\n",
    "                current = came_from[current]\n",
    "            path.reverse()\n",
    "            return path\n",
    "\n",
    "        x, y = current\n",
    "        neighbors = [(x - 1, y), (x + 1, y), (x, y - 1), (x, y + 1)]\n",
    "\n",
    "        for neighbor in neighbors:\n",
    "            nx, ny = neighbor\n",
    "            if 0 <= nx < GRID_WIDTH and 0 <= ny < GRID_HEIGHT and occupancy_grid[nx][ny] == 0:\n",
    "                # Skip this neighbor if it's occupied by a dynamic obstacle or the other bot\n",
    "                if any((nx == dx and ny == dy) for dx, dy, _, _ in dynamic_obstacles) or (nx, ny) == second_bot_position:\n",
    "                    continue\n",
    "\n",
    "                tentative_g_score = g_score[current] + 1\n",
    "                \n",
    "                # Update if this path to neighbor is better\n",
    "                if neighbor not in g_score or tentative_g_score < g_score[neighbor]:\n",
    "                    came_from[neighbor] = current\n",
    "                    g_score[neighbor] = tentative_g_score\n",
    "                    f_score[neighbor] = tentative_g_score + heuristic(neighbor, goal)\n",
    "                    \n",
    "                    # Only add to open list if it hasn't been added before\n",
    "                    if neighbor not in (item[1] for item in open_list.queue):\n",
    "                        open_list.put((f_score[neighbor], neighbor))\n",
    "\n",
    "    return []  # Return an empty path if no path is found\n",
    "\n",
    "\n"
   ]
  },
  {
   "cell_type": "markdown",
   "metadata": {},
   "source": [
    "# Dijkstra's Algorithm\n",
    "\n",
    "Responsible for the Dijkstra's Algorithm.\n",
    "\n",
    "\n"
   ]
  },
  {
   "cell_type": "code",
   "execution_count": 49,
   "metadata": {},
   "outputs": [],
   "source": [
    "def dijkstra_search(occupancy_grid, start, goal, dynamic_obstacles, second_bot_position):\n",
    "    open_list = PriorityQueue()\n",
    "    open_list.put((0, start))  \n",
    "    came_from = {}\n",
    "    g_score = {start: 0} \n",
    "\n",
    "    while not open_list.empty():\n",
    "        current_cost, current = open_list.get()\n",
    "\n",
    "        if current == goal:\n",
    "            path = []\n",
    "            while current in came_from:\n",
    "                path.append(current)\n",
    "                current = came_from[current]\n",
    "            path.reverse()\n",
    "            return path \n",
    "\n",
    "        x, y = current\n",
    "        neighbors = [(x - 1, y), (x + 1, y), (x, y - 1), (x, y + 1)] \n",
    "\n",
    "        for neighbor in neighbors:\n",
    "            nx, ny = neighbor\n",
    "            if 0 <= nx < GRID_WIDTH and 0 <= ny < GRID_HEIGHT and occupancy_grid[nx][ny] == 0:\n",
    "                # Skip if occupied by dynamic obstacles or the second bot\n",
    "                if any((nx == dx and ny == dy) for dx, dy, _, _ in dynamic_obstacles) or (nx, ny) == second_bot_position:\n",
    "                    continue\n",
    "\n",
    "                tentative_g_score = g_score[current] + 1 \n",
    "\n",
    "                # Update the path if we found a lower cost to reach the neighbor\n",
    "                if neighbor not in g_score or tentative_g_score < g_score[neighbor]:\n",
    "                    came_from[neighbor] = current\n",
    "                    g_score[neighbor] = tentative_g_score\n",
    "                    open_list.put((tentative_g_score, neighbor))\n",
    "\n",
    "    return []"
   ]
  },
  {
   "cell_type": "markdown",
   "metadata": {},
   "source": [
    "# Bot and Target Functions\n",
    "\n",
    "Responsible for drawing the bots and targets.\n"
   ]
  },
  {
   "cell_type": "code",
   "execution_count": 50,
   "metadata": {},
   "outputs": [],
   "source": [
    "# ----- Bot and Target -----\n",
    "\n",
    "def draw_entity(screen, position, entity_type, index):\n",
    "    size = DYNAMIC_OBSTACLE_RADIUS * CELL_SIZE\n",
    "\n",
    "    if entity_type == \"bot\":\n",
    "        entity_image = pygame.image.load(IMAGE_PATHS[\"agents\"][index - 1])\n",
    "        entity_image = pygame.transform.scale(entity_image, (size * 2, size * 2))\n",
    "    elif entity_type == \"target\":\n",
    "        entity_image = pygame.image.load(IMAGE_PATHS[\"targets\"][index - 1])\n",
    "        entity_image = pygame.transform.scale(entity_image, (size, size))\n",
    "    else:\n",
    "        return\n",
    "\n",
    "    center_x = position[0] * CELL_SIZE + CELL_SIZE // 2\n",
    "    center_y = position[1] * CELL_SIZE + CELL_SIZE // 2\n",
    "    top_left_x = center_x - entity_image.get_width() // 2\n",
    "    top_left_y = center_y - entity_image.get_height() // 2\n",
    "\n",
    "    screen.blit(entity_image, (top_left_x, top_left_y))\n",
    "\n",
    "\n",
    "def prioritize_targets(targets):\n",
    "    # Sort targets by priority\n",
    "    targets.sort(key=lambda t: t[\"priority\"])\n",
    "    \n",
    "    bot1_targets = []\n",
    "    bot2_targets = []\n",
    "\n",
    "    # Initialize distance trackers for balancing\n",
    "    bot1_distance = 0\n",
    "    bot2_distance = 0\n",
    "\n",
    "    # Iterate over sorted targets to assign them to the bots\n",
    "    for target in targets:\n",
    "        if bot1_distance <= bot2_distance:\n",
    "            bot1_targets.append(copy.deepcopy(target))\n",
    "            bot1_distance += target[\"priority\"]\n",
    "            print(f\"Assigned target with {target[\"priority\"]} to Bot 1\" )\n",
    "        else:\n",
    "            bot2_targets.append(copy.deepcopy(target))\n",
    "            bot2_distance += target[\"priority\"]\n",
    "            print(f\"Assigned target with {target[\"priority\"]} to Bot 2\" )\n",
    "\n",
    "    return bot1_targets, bot2_targets\n",
    "\n"
   ]
  },
  {
   "cell_type": "markdown",
   "metadata": {},
   "source": [
    "# Main Simulation Loop\n",
    "\n",
    "All helper functions for the main loop\n",
    "\n",
    "\n"
   ]
  },
  {
   "cell_type": "code",
   "execution_count": 51,
   "metadata": {},
   "outputs": [],
   "source": [
    "# ----- Main Simulation Helper Functions -----\n",
    "def initialize_environment(screen_width, screen_height, occupancy_grid):\n",
    "    screen = initialize_pygame(screen_width, screen_height)\n",
    "    environment_image = load_and_scale_image(screen_width, screen_height)\n",
    "    \n",
    "    blend_surface = pygame.Surface((screen_width, screen_height))\n",
    "    blend_surface.fill((128, 128, 128))  # Fill with 50% gray\n",
    "\n",
    "    # Update the blend surface based on the occupancy grid\n",
    "    for x in range(GRID_WIDTH):\n",
    "        for y in range(GRID_HEIGHT):\n",
    "            if occupancy_grid[x][y] == 0:  # Free space\n",
    "                pygame.draw.rect(blend_surface, (255, 255, 255), \n",
    "                                 (x * CELL_SIZE, y * CELL_SIZE, CELL_SIZE, CELL_SIZE))\n",
    "                \n",
    "    return screen, environment_image, blend_surface\n",
    "\n",
    "def is_position_free(position, occupancy_grid, dynamic_obstacles):\n",
    "    x, y = position\n",
    "    return (occupancy_grid[x][y] == 0 and \n",
    "            not any(math.sqrt((x - dx) ** 2 + (y - dy) ** 2) <= DYNAMIC_OBSTACLE_RADIUS \n",
    "                    for dx, dy, _, _ in dynamic_obstacles))\n",
    "\n",
    "def handle_bot_movement(bot_data, occupancy_grid, dynamic_obstacles, navigation_algo):\n",
    "    for bot in bot_data:\n",
    "        # Check if the bot has completed all targets\n",
    "        if bot.get(\"completed\"):\n",
    "            continue  # Skip processing for bots that have finished their targets\n",
    "        \n",
    "        # Check if the bot has a path to follow\n",
    "        if bot[\"path_index\"] < len(bot[\"full_path\"]):\n",
    "            next_position = bot[\"full_path\"][bot[\"path_index\"]]\n",
    "\n",
    "            # Check if the next position is free of obstacles\n",
    "            if is_position_free(next_position, occupancy_grid, dynamic_obstacles):\n",
    "                bot[\"position\"] = next_position\n",
    "                bot[\"path_index\"] += 1\n",
    "\n",
    "                # Check if the bot has reached the final target position\n",
    "                if bot[\"path_index\"] == len(bot[\"full_path\"]):\n",
    "                    print(f\"Bot {bot['bot']} has reached its target at {next_position}\")\n",
    "\n",
    "        else:\n",
    "            # If the bot has completed its path, check if there are more targets to navigate to\n",
    "            if bot[\"targets\"]:\n",
    "                next_target = bot[\"targets\"].pop(0)[\"position\"]\n",
    "                bot[\"full_path\"] = navigation_algo(\n",
    "                    occupancy_grid, bot[\"position\"], next_target, dynamic_obstacles, bot[\"position\"]\n",
    "                )\n",
    "                bot[\"path_index\"] = 0  # Reset path index\n",
    "                print(f\"Bot {bot['bot']} is moving to next target at {next_target}\")\n",
    "            else:\n",
    "                # If no more targets are available, mark the bot as completed\n",
    "                bot[\"completed\"] = True\n",
    "                print(f\"Bot {bot['bot']} has completed all assigned targets.\")\n",
    "\n",
    "\n",
    "def render_bots(screen, bot_data, targets):\n",
    "    for bot in bot_data:\n",
    "        draw_entity(screen, bot[\"position\"], \"bot\", bot[\"bot\"])\n",
    "\n",
    "    for target in targets:\n",
    "        draw_entity(screen, target[\"position\"], \"target\", target[\"priority\"])\n",
    "\n",
    "    pygame.display.flip()\n",
    "\n"
   ]
  },
  {
   "cell_type": "code",
   "execution_count": 52,
   "metadata": {},
   "outputs": [],
   "source": [
    "# ----- Main Simulation Loop -----\n",
    "\n",
    "def main(occupancy_grid, navigation_algo, text_case, target_num = 2):\n",
    "    # Initialize Pygame screen and environment\n",
    "    screen, environment_image, blend_surface = initialize_environment(SCREEN_WIDTH, SCREEN_HEIGHT, occupancy_grid)\n",
    "\n",
    "    # Define dynamic obstacles and customers\n",
    "    dynamic_obstacles = text_case()\n",
    "    customers = [random.randint(0, 1) for _ in dynamic_obstacles]\n",
    "    \n",
    "    # Define target positions with priorities\n",
    "    targets = [\n",
    "        {\"position\": (205, 135), \"priority\": 1},\n",
    "        {\"position\": (170, 100), \"priority\": 2},\n",
    "        {\"position\": (135, 110), \"priority\": 3},\n",
    "        {\"position\": (60, 50), \"priority\": 1},\n",
    "        {\"position\": (100, 30), \"priority\": 2}\n",
    "    ]\n",
    "\n",
    "    # Split targets between bots\n",
    "    targets1, targets2 = prioritize_targets(targets[:target_num])\n",
    "\n",
    "    # Initialize bot data\n",
    "    bot_data = [\n",
    "        {\"position\": (20, 20), \"bot\": 1, \"full_path\": [], \"path_index\": 0, \"targets\": targets1, \"completed\": False},\n",
    "        {\"position\": (30, 30), \"bot\": 2, \"full_path\": [], \"path_index\": 0, \"targets\": targets2, \"completed\": False}\n",
    "    ]\n",
    "\n",
    "    # Initialize the timer\n",
    "    start_time = time.time()\n",
    "    clock = pygame.time.Clock()\n",
    "    running = True\n",
    "\n",
    "    while running:\n",
    "        for event in pygame.event.get():\n",
    "            if event.type == pygame.QUIT:\n",
    "                running = False\n",
    "\n",
    "        # Blit the environment and blend layers\n",
    "        screen.blit(environment_image, (0, 0))\n",
    "        screen.blit(blend_surface, (0, 0), special_flags=pygame.BLEND_MULT)\n",
    "\n",
    "        # Update and render dynamic obstacles\n",
    "        move_dynamic_obstacles(dynamic_obstacles, occupancy_grid)\n",
    "        draw_dynamic_obstacles(screen, dynamic_obstacles, customers)\n",
    "\n",
    "        # Update bot positions\n",
    "        handle_bot_movement(bot_data, occupancy_grid, dynamic_obstacles, navigation_algo)\n",
    "\n",
    "        # Render bots and targets\n",
    "        render_bots(screen, bot_data, targets[:target_num])\n",
    "\n",
    "        # Check if all bots have completed their targets\n",
    "        if all(bot.get(\"completed\") for bot in bot_data):\n",
    "            end_time = time.time()\n",
    "            elapsed_time = end_time - start_time\n",
    "            print(f\"All bots have completed their assigned targets. Ending simulation.\")\n",
    "            print(f\"Time elapsed: {elapsed_time:.2f} seconds.\")\n",
    "            break  # End the simulation loop\n",
    "\n",
    "        clock.tick(FPS)\n",
    "\n",
    "    pygame.quit()\n"
   ]
  },
  {
   "cell_type": "markdown",
   "metadata": {},
   "source": [
    "Begin the mapping of the enviornment"
   ]
  },
  {
   "cell_type": "code",
   "execution_count": 53,
   "metadata": {},
   "outputs": [],
   "source": [
    "occupancy_grid = run_simulation()"
   ]
  },
  {
   "cell_type": "code",
   "execution_count": 54,
   "metadata": {},
   "outputs": [],
   "source": [
    "def invert_occupancy_grid(grid):\n",
    "    visited = set()\n",
    "    for x in range(GRID_WIDTH):\n",
    "        for y in range(GRID_HEIGHT):\n",
    "            if (x, y) not in visited:\n",
    "                visited.add((x, y))\n",
    "                if grid[x][y] < 0:\n",
    "                    grid[x][y] = 0\n",
    "                else:\n",
    "                    grid[x][y] = 1\n",
    "    return grid"
   ]
  },
  {
   "cell_type": "markdown",
   "metadata": {},
   "source": [
    "Make a copy of envionments to run two different algorithms on"
   ]
  },
  {
   "cell_type": "code",
   "execution_count": 55,
   "metadata": {},
   "outputs": [],
   "source": [
    "inverted_occupancy_grid = invert_occupancy_grid(occupancy_grid)\n",
    "inverted_occupancy_grid_2= np.copy(inverted_occupancy_grid)\n",
    "inverted_occupancy_grid_3= np.copy(inverted_occupancy_grid)\n",
    "inverted_occupancy_grid_4= np.copy(inverted_occupancy_grid)\n",
    "inverted_occupancy_grid_5= np.copy(inverted_occupancy_grid)\n",
    "inverted_occupancy_grid_6= np.copy(inverted_occupancy_grid)\n",
    "\n",
    "inverted_occupancy_grid_7= np.copy(inverted_occupancy_grid)\n",
    "inverted_occupancy_grid_8= np.copy(inverted_occupancy_grid)\n",
    "inverted_occupancy_grid_9= np.copy(inverted_occupancy_grid)\n",
    "inverted_occupancy_grid_10= np.copy(inverted_occupancy_grid)"
   ]
  },
  {
   "cell_type": "markdown",
   "metadata": {},
   "source": [
    "# Testing Scenarios\n",
    "\n",
    "The normal, the high-traffic, the emergency\n",
    "\n",
    "\n"
   ]
  },
  {
   "cell_type": "code",
   "execution_count": 56,
   "metadata": {},
   "outputs": [],
   "source": [
    "def normal():\n",
    "    dynamic_obstacles = [[30, 35, -1, 0], [25, 25, -1, 0], [80, 60, 1, 0],[100, 80, 1, 0]]\n",
    "    return dynamic_obstacles\n",
    "\n",
    "def high_traffic():\n",
    "    dynamic_obstacles = [[30, 35, -1, 0], [25, 25, -1, 0], [80, 60, 1, 0],[100, 80, 1, 0],\n",
    "                         [20, 130, 1, 0], [170, 80, 1, 0], [150, 80, 1, 0], [100, 130, 1, 0]]\n",
    "    return dynamic_obstacles\n",
    "\n",
    "def emergency():\n",
    "    dynamic_obstacles = [[30, 35, -1, 0], [25, 25, -1, 0], [80, 60, 1, 0],[100, 80, 1, 0],\n",
    "                         [20, 130, 1, 0], [170, 80, 1, 0], [150, 80, 1, 0], [100, 130, 1, 0],\n",
    "                         [180, 75, 1, 0], [175, 85, 1, 0], [90, 80, 1, 0], [105, 135, 1, 0]]\n",
    "    return dynamic_obstacles"
   ]
  },
  {
   "cell_type": "markdown",
   "metadata": {},
   "source": [
    "# Run A* Search\n",
    "Normal Case: 4 Dynamic Obstacles."
   ]
  },
  {
   "cell_type": "code",
   "execution_count": 57,
   "metadata": {},
   "outputs": [
    {
     "name": "stdout",
     "output_type": "stream",
     "text": [
      "Assigned target with 1 to Bot 1\n",
      "Assigned target with 2 to Bot 2\n",
      "Bot 1 is moving to next target at (205, 135)\n",
      "Bot 2 is moving to next target at (170, 100)\n",
      "Bot 2 has reached its target at (170, 100)\n",
      "Bot 2 has completed all assigned targets.\n",
      "Bot 1 has reached its target at (205, 135)\n",
      "Bot 1 has completed all assigned targets.\n",
      "All bots have completed their assigned targets. Ending simulation.\n",
      "Time elapsed: 12.13 seconds.\n"
     ]
    }
   ],
   "source": [
    "main(inverted_occupancy_grid, a_star_search, normal)"
   ]
  },
  {
   "cell_type": "markdown",
   "metadata": {},
   "source": [
    "High traffic case: 8 Dynamic Obstacles.\n"
   ]
  },
  {
   "cell_type": "code",
   "execution_count": 58,
   "metadata": {},
   "outputs": [
    {
     "name": "stdout",
     "output_type": "stream",
     "text": [
      "Assigned target with 1 to Bot 1\n",
      "Assigned target with 2 to Bot 2\n",
      "Bot 1 is moving to next target at (205, 135)\n",
      "Bot 2 is moving to next target at (170, 100)\n",
      "Bot 2 has reached its target at (170, 100)\n",
      "Bot 2 has completed all assigned targets.\n",
      "Bot 1 has reached its target at (205, 135)\n",
      "Bot 1 has completed all assigned targets.\n",
      "All bots have completed their assigned targets. Ending simulation.\n",
      "Time elapsed: 14.05 seconds.\n"
     ]
    }
   ],
   "source": [
    "main(inverted_occupancy_grid_2, a_star_search, high_traffic)"
   ]
  },
  {
   "cell_type": "markdown",
   "metadata": {},
   "source": [
    "Emergency Case: 12 Dynamic Obstacles."
   ]
  },
  {
   "cell_type": "code",
   "execution_count": 59,
   "metadata": {},
   "outputs": [
    {
     "name": "stdout",
     "output_type": "stream",
     "text": [
      "Assigned target with 1 to Bot 1\n",
      "Assigned target with 2 to Bot 2\n",
      "Bot 1 is moving to next target at (205, 135)\n",
      "Bot 2 is moving to next target at (170, 100)\n",
      "Bot 2 has reached its target at (170, 100)\n",
      "Bot 2 has completed all assigned targets.\n",
      "Bot 1 has reached its target at (205, 135)\n",
      "Bot 1 has completed all assigned targets.\n",
      "All bots have completed their assigned targets. Ending simulation.\n",
      "Time elapsed: 14.75 seconds.\n"
     ]
    }
   ],
   "source": [
    "main(inverted_occupancy_grid_3, a_star_search, emergency)"
   ]
  },
  {
   "cell_type": "markdown",
   "metadata": {},
   "source": [
    "# Run Dijkstra's Algorithm\n",
    "Normal Case: 4 Dynamic Obstacles."
   ]
  },
  {
   "cell_type": "code",
   "execution_count": 60,
   "metadata": {},
   "outputs": [
    {
     "name": "stdout",
     "output_type": "stream",
     "text": [
      "Assigned target with 1 to Bot 1\n",
      "Assigned target with 2 to Bot 2\n",
      "Bot 1 is moving to next target at (205, 135)\n",
      "Bot 2 is moving to next target at (170, 100)\n",
      "Bot 2 has reached its target at (170, 100)\n",
      "Bot 2 has completed all assigned targets.\n",
      "Bot 1 has reached its target at (205, 135)\n",
      "Bot 1 has completed all assigned targets.\n",
      "All bots have completed their assigned targets. Ending simulation.\n",
      "Time elapsed: 11.20 seconds.\n"
     ]
    }
   ],
   "source": [
    "main(inverted_occupancy_grid_4, dijkstra_search, normal)"
   ]
  },
  {
   "cell_type": "markdown",
   "metadata": {},
   "source": [
    "High traffic case: 8 Dynamic Obstacles.\n"
   ]
  },
  {
   "cell_type": "code",
   "execution_count": 61,
   "metadata": {},
   "outputs": [
    {
     "name": "stdout",
     "output_type": "stream",
     "text": [
      "Assigned target with 1 to Bot 1\n",
      "Assigned target with 2 to Bot 2\n",
      "Bot 1 is moving to next target at (205, 135)\n",
      "Bot 2 is moving to next target at (170, 100)\n",
      "Bot 2 has reached its target at (170, 100)\n",
      "Bot 2 has completed all assigned targets.\n",
      "Bot 1 has reached its target at (205, 135)\n",
      "Bot 1 has completed all assigned targets.\n",
      "All bots have completed their assigned targets. Ending simulation.\n",
      "Time elapsed: 13.08 seconds.\n"
     ]
    }
   ],
   "source": [
    "main(inverted_occupancy_grid_5, dijkstra_search, high_traffic)"
   ]
  },
  {
   "cell_type": "markdown",
   "metadata": {},
   "source": [
    "Emergency Case: 12 Dynamic Obstacles."
   ]
  },
  {
   "cell_type": "code",
   "execution_count": 62,
   "metadata": {},
   "outputs": [
    {
     "name": "stdout",
     "output_type": "stream",
     "text": [
      "Assigned target with 1 to Bot 1\n",
      "Assigned target with 2 to Bot 2\n",
      "Bot 1 is moving to next target at (205, 135)\n",
      "Bot 2 is moving to next target at (170, 100)\n",
      "Bot 2 has reached its target at (170, 100)\n",
      "Bot 2 has completed all assigned targets.\n",
      "Bot 1 has reached its target at (205, 135)\n",
      "Bot 1 has completed all assigned targets.\n",
      "All bots have completed their assigned targets. Ending simulation.\n",
      "Time elapsed: 14.16 seconds.\n"
     ]
    }
   ],
   "source": [
    "main(inverted_occupancy_grid_6, dijkstra_search, emergency)"
   ]
  },
  {
   "cell_type": "markdown",
   "metadata": {},
   "source": [
    "# Different Number of Targets\n",
    "A* Normal Case: 4 Dynamic Obstacles.\n",
    "Targets = 3"
   ]
  },
  {
   "cell_type": "code",
   "execution_count": 63,
   "metadata": {},
   "outputs": [
    {
     "name": "stdout",
     "output_type": "stream",
     "text": [
      "Assigned target with 1 to Bot 1\n",
      "Assigned target with 2 to Bot 2\n",
      "Assigned target with 3 to Bot 1\n",
      "Bot 1 is moving to next target at (205, 135)\n",
      "Bot 2 is moving to next target at (170, 100)\n",
      "Bot 2 has reached its target at (170, 100)\n",
      "Bot 2 has completed all assigned targets.\n",
      "Bot 1 has reached its target at (205, 135)\n",
      "Bot 1 is moving to next target at (135, 110)\n",
      "Bot 1 has reached its target at (135, 110)\n",
      "Bot 1 has completed all assigned targets.\n",
      "All bots have completed their assigned targets. Ending simulation.\n",
      "Time elapsed: 15.01 seconds.\n"
     ]
    }
   ],
   "source": [
    "main(inverted_occupancy_grid_7, a_star_search, normal, 3)"
   ]
  },
  {
   "cell_type": "markdown",
   "metadata": {},
   "source": [
    "A* Normal Case: 4 Dynamic Obstacles.\n",
    "Targets = 5"
   ]
  },
  {
   "cell_type": "code",
   "execution_count": 64,
   "metadata": {},
   "outputs": [
    {
     "name": "stdout",
     "output_type": "stream",
     "text": [
      "Assigned target with 1 to Bot 1\n",
      "Assigned target with 1 to Bot 2\n",
      "Assigned target with 2 to Bot 1\n",
      "Assigned target with 2 to Bot 2\n",
      "Assigned target with 3 to Bot 1\n",
      "Bot 1 is moving to next target at (205, 135)\n",
      "Bot 2 is moving to next target at (60, 50)\n",
      "Bot 2 has reached its target at (60, 50)\n",
      "Bot 2 is moving to next target at (100, 30)\n",
      "Bot 2 has reached its target at (100, 30)\n",
      "Bot 2 has completed all assigned targets.\n",
      "Bot 1 has reached its target at (205, 135)\n",
      "Bot 1 is moving to next target at (170, 100)\n",
      "Bot 1 has reached its target at (170, 100)\n",
      "Bot 1 is moving to next target at (135, 110)\n",
      "Bot 1 has reached its target at (135, 110)\n",
      "Bot 1 has completed all assigned targets.\n",
      "All bots have completed their assigned targets. Ending simulation.\n",
      "Time elapsed: 16.44 seconds.\n"
     ]
    }
   ],
   "source": [
    "main(inverted_occupancy_grid_8, a_star_search, normal, 5)"
   ]
  },
  {
   "cell_type": "markdown",
   "metadata": {},
   "source": [
    "Dijkstra Normal Case: 4 Dynamic Obstacles.\n",
    "Targets = 3"
   ]
  },
  {
   "cell_type": "code",
   "execution_count": 65,
   "metadata": {},
   "outputs": [
    {
     "name": "stdout",
     "output_type": "stream",
     "text": [
      "Assigned target with 1 to Bot 1\n",
      "Assigned target with 2 to Bot 2\n",
      "Assigned target with 3 to Bot 1\n",
      "Bot 1 is moving to next target at (205, 135)\n",
      "Bot 2 is moving to next target at (170, 100)\n",
      "Bot 2 has reached its target at (170, 100)\n",
      "Bot 2 has completed all assigned targets.\n",
      "Bot 1 has reached its target at (205, 135)\n",
      "Bot 1 is moving to next target at (135, 110)\n",
      "Bot 1 has reached its target at (135, 110)\n",
      "Bot 1 has completed all assigned targets.\n",
      "All bots have completed their assigned targets. Ending simulation.\n",
      "Time elapsed: 14.98 seconds.\n"
     ]
    }
   ],
   "source": [
    "main(inverted_occupancy_grid_9, dijkstra_search, normal, 3)"
   ]
  },
  {
   "cell_type": "markdown",
   "metadata": {},
   "source": [
    "Dijkstra Normal Case: 4 Dynamic Obstacles.\n",
    "Targets = 5"
   ]
  },
  {
   "cell_type": "code",
   "execution_count": 66,
   "metadata": {},
   "outputs": [
    {
     "name": "stdout",
     "output_type": "stream",
     "text": [
      "Assigned target with 1 to Bot 1\n",
      "Assigned target with 1 to Bot 2\n",
      "Assigned target with 2 to Bot 1\n",
      "Assigned target with 2 to Bot 2\n",
      "Assigned target with 3 to Bot 1\n",
      "Bot 1 is moving to next target at (205, 135)\n",
      "Bot 2 is moving to next target at (60, 50)\n",
      "Bot 2 has reached its target at (60, 50)\n",
      "Bot 2 is moving to next target at (100, 30)\n",
      "Bot 2 has reached its target at (100, 30)\n",
      "Bot 2 has completed all assigned targets.\n",
      "Bot 1 has reached its target at (205, 135)\n",
      "Bot 1 is moving to next target at (170, 100)\n",
      "Bot 1 has reached its target at (170, 100)\n",
      "Bot 1 is moving to next target at (135, 110)\n",
      "Bot 1 has reached its target at (135, 110)\n",
      "Bot 1 has completed all assigned targets.\n",
      "All bots have completed their assigned targets. Ending simulation.\n",
      "Time elapsed: 16.34 seconds.\n"
     ]
    }
   ],
   "source": [
    "main(inverted_occupancy_grid_10, dijkstra_search, normal, 5)"
   ]
  }
 ],
 "metadata": {
  "kernelspec": {
   "display_name": ".venv",
   "language": "python",
   "name": "python3"
  },
  "language_info": {
   "codemirror_mode": {
    "name": "ipython",
    "version": 3
   },
   "file_extension": ".py",
   "mimetype": "text/x-python",
   "name": "python",
   "nbconvert_exporter": "python",
   "pygments_lexer": "ipython3",
   "version": "3.12.3"
  }
 },
 "nbformat": 4,
 "nbformat_minor": 2
}
